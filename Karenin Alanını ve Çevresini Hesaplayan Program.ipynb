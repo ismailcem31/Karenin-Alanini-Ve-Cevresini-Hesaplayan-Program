{
 "cells": [
  {
   "cell_type": "code",
   "execution_count": null,
   "id": "3dcd2540",
   "metadata": {},
   "outputs": [],
   "source": [
    "# Kullanıcıdan kenar uzunluğunu al\n",
    "kenar = float(input(\"Lütfen karenin kenar uzunluğunu girin: \"))\n",
    " \n",
    "# Alanı hesapla\n",
    "alan = kenar ** 2\n",
    " \n",
    "# Çevreyi hesapla\n",
    "cevre = 4 * kenar\n",
    " \n",
    "\"\"\"\n",
    "print(f\"Karenin Alanı: {alan}\")\n",
    "print(f\"Karenin Çevresi: {cevre}\")\n",
    "\"\"\"\n",
    " \n",
    "'''\n",
    "print(f\"Karenin Alanı: {alan}\")\n",
    "print(f\"Karenin Çevresi: {cevre}\")\n",
    "'''\n",
    " \n",
    "print(f\"Karenin Alanı: {alan}\\nKarenin Çevresi: {cevre}\")"
   ]
  }
 ],
 "metadata": {
  "kernelspec": {
   "display_name": "Python 3 (ipykernel)",
   "language": "python",
   "name": "python3"
  },
  "language_info": {
   "codemirror_mode": {
    "name": "ipython",
    "version": 3
   },
   "file_extension": ".py",
   "mimetype": "text/x-python",
   "name": "python",
   "nbconvert_exporter": "python",
   "pygments_lexer": "ipython3",
   "version": "3.11.3"
  }
 },
 "nbformat": 4,
 "nbformat_minor": 5
}
